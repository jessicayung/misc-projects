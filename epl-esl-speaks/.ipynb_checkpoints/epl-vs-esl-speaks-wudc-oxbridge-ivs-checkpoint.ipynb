{
 "cells": [
  {
   "cell_type": "markdown",
   "metadata": {},
   "source": [
    "## Comparing speaker points for EPL vs ESL speakers at WUDC 2017 vs Oxford and Cambridge IVs 2016"
   ]
  },
  {
   "cell_type": "markdown",
   "metadata": {},
   "source": [
    "*Jessica Yung, 5 January 2017. Idea and previous tests run by Lucia Arce and Jure Heredith.*"
   ]
  },
  {
   "cell_type": "markdown",
   "metadata": {},
   "source": [
    "### 1. Summary\n",
    "For each speaker in our dataset, we regressed their WUDC 2017 average speaker score on (1) the average of their non-zero average speaker score(s) at the Oxford and Cambridge IVs 2016 and (2) whether or not they had ESL status. There were 193 speakers in our dataset, 62 of whom had ESL status.\n",
    "\n",
    "We found that the coefficient on `is_esl` was -0.696 and was non-zero at the 99% confidence level (t-stat of -2.77). Thus, **there is sufficient evidence at the 1% significance level to reject the claim that there is no bias towards ESL speakers that existed at WUDC 2017 compared to the Oxford and Cambridge IVs 2016**.\n",
    "\n",
    "\n",
    "### 2. Data preprocessing:\n",
    "1. Download (copy) speaker tabs from WUDC2017, Oxford IV 2016 and Cambridge IV 2016.\n",
    "\n",
    "2. Remove speakers who have not completed all five rounds or are swing speakers from the tab.\n",
    "    * If speakers have not completed all five rounds, they may have been ill and so other confounding factors likely affected their performance.\n",
    "    * Swing speakers may not be  taking the tournament seriously. Their on-tab names may also be wrong.\n",
    "    * The average speaks also tend to be wrong in that they are an average across rounds-including-those-where-said-speaker-got-zero-speaks.\n",
    "\n",
    "3. Generate dummy variable `is_esl` for each speaker. A speaker is considered to have ESL status if they have had ESL status at any one of the three tournaments.\n",
    "4. Record only the average speaker score at each tournament for each speaker.\n",
    "    * Variables for each speaker: `wudc2017_avg`, `oxiv2016_avg`, `camiv2016_avg`.\n",
    "5. Generate value for variable `mean_ox_cam_ivs_2016` for each speaker which takes the mean of their average speaker scores at the Oxbridge and Cambridge IVs 2016. \n",
    "    * If a speaker only went to one of these tournaments, their mean is their average speaker score at the tournament they went to. \n",
    "        * E.g. If `speaker` went to the Oxford IV and had a mean speaker score of 99 and did not go to the Cambridge IV, `mean_ox_cam_ivs_2016` for that speaker is 99.\n",
    "    * If a speaker did not go to any of these tournaments, this is left blank.\n",
    "6. Keep only data for speakers that have non-blank values for `mean_ox_cam_ivs_2016` and `wudc2017_avg`.\n",
    "    * There are 193 speakers remaining, 62 of whom have ESL status.\n",
    "\n",
    "### 3. Hypothesis and Regression\n",
    "```\n",
    "H_0: is_esl = 0\n",
    "H_1: is_esl != 0 (is not equal to zero)\n",
    "```\n",
    "\n",
    "We regress `wudc2017_avg` on `is_esl` and `mean_ox_cam_ivs_2016`.\n",
    "\n",
    "\n",
    "### 4. Results\n",
    "\n",
    "![Average Speaks for WUDC and Oxbridge IVs 2016](avg-speaks-wudc-oxbridge-2016-regression-results.png)\n"
   ]
  },
  {
   "cell_type": "markdown",
   "metadata": {},
   "source": [
    "We found that the coefficient on `is_esl` was -0.696 and was non-zero at the 99% confidence level (t-stat of -2.77). Thus, **there is sufficient evidence at the 1% significance level to reject the claim that there is no bias towards ESL speakers that existed at WUDC 2017 compared to the Oxford and Cambridge IVs 2016**.\n",
    "\n",
    "### 5. Caveats and Improvements\n",
    "This is a simple regression. We **have not partialled out the effects of factors** such as speaker gender, motion-weightedness combined with position or chair judge characteristics, all of which might contribute to the difference between WUDC 2017 average speaker scores and Oxbridge IV 2016 average speaker scores per speaker. (See R^2 of 0.6548 which is lower than we'd like.) We have **not tested that the data comply with Gauss-Markov assumptions either**. These are improvements we can implement."
   ]
  }
 ],
 "metadata": {
  "kernelspec": {
   "display_name": "Python 3",
   "language": "python",
   "name": "python3"
  },
  "language_info": {
   "codemirror_mode": {
    "name": "ipython",
    "version": 3
   },
   "file_extension": ".py",
   "mimetype": "text/x-python",
   "name": "python",
   "nbconvert_exporter": "python",
   "pygments_lexer": "ipython3",
   "version": "3.5.1"
  }
 },
 "nbformat": 4,
 "nbformat_minor": 0
}
