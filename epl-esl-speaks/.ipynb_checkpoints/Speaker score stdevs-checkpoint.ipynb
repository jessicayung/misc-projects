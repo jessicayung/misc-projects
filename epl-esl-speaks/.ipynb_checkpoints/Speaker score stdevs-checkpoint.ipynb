{
 "cells": [
  {
   "cell_type": "markdown",
   "metadata": {},
   "source": [
    "# Speaker score standard deviations"
   ]
  },
  {
   "cell_type": "markdown",
   "metadata": {},
   "source": [
    "## TODO\n",
    "Oops we should compare EPL vs ESL speaks stdev against people with the same mean speaks (as opposed to across all speakers)."
   ]
  },
  {
   "cell_type": "code",
   "execution_count": 5,
   "metadata": {
    "collapsed": true
   },
   "outputs": [],
   "source": [
    "import pandas as pd\n",
    "import numpy as np"
   ]
  },
  {
   "cell_type": "code",
   "execution_count": 100,
   "metadata": {
    "collapsed": true
   },
   "outputs": [],
   "source": [
    "# Read in tab data (with `is_esl` column)\n",
    "wudc2017 = pd.read_csv(\"data/wudc2017.csv\")\n",
    "eudc2016 = pd.read_csv(\"data/eudc2016.csv\")\n",
    "oxiv2016 = pd.read_csv(\"data/oxiv2016.csv\")\n",
    "camiv2016 = pd.read_csv(\"data/camiv2016.csv\")\n",
    "\n",
    "wudc2016 = pd.read_csv(\"data/wudc2016.csv\")\n",
    "eudc2015 = pd.read_csv(\"data/eudc2015.csv\")\n",
    "oxiv2015 = pd.read_csv(\"data/eudc2015.csv\")\n",
    "camiv2015 = pd.read_csv(\"data/camiv2015.csv\")"
   ]
  },
  {
   "cell_type": "markdown",
   "metadata": {},
   "source": [
    "### WUDC 2016"
   ]
  },
  {
   "cell_type": "code",
   "execution_count": 68,
   "metadata": {
    "collapsed": false
   },
   "outputs": [
    {
     "name": "stdout",
     "output_type": "stream",
     "text": [
      "Mean speaks stdev:  2.5222258248678173\n",
      "Mean EPL speaks stdev:  2.4849912932265057\n",
      "Mean ESL speaks stdev:  2.568078438016618\n"
     ]
    }
   ],
   "source": [
    "wudc2016_esl = wudc2016[wudc2016['is_esl_or_efl'] == 1]\n",
    "wudc2016_epl = wudc2016[wudc2016['is_esl_or_efl'] == 0]\n",
    "print(\"Mean speaks stdev: \", np.mean(wudc2016['speaker_stdev']))\n",
    "print(\"Mean EPL speaks stdev: \", np.mean(wudc2016_epl['speaker_stdev']))\n",
    "print(\"Mean ESL speaks stdev: \", np.mean(wudc2016_esl['speaker_stdev']))"
   ]
  },
  {
   "cell_type": "code",
   "execution_count": 69,
   "metadata": {
    "collapsed": false
   },
   "outputs": [
    {
     "name": "stdout",
     "output_type": "stream",
     "text": [
      "Mean EPL open round speaks stdev:  2.353397361929397\n",
      "Mean ESL open round speaks stdev:  2.4112681453896125\n",
      "Mean EPL closed round speaks stdev:  2.3310593377826554\n",
      "Mean ESL closed round speaks stdev:  2.524056124328786\n"
     ]
    }
   ],
   "source": [
    "print(\"Mean EPL open round speaks stdev: \", np.mean(wudc2016_epl['speaker_open_stdev']))\n",
    "print(\"Mean ESL open round speaks stdev: \", np.mean(wudc2016_esl['speaker_open_stdev']))\n",
    "print(\"Mean EPL closed round speaks stdev: \", np.mean(wudc2016_epl['speaker_closed_stdev']))\n",
    "print(\"Mean ESL closed round speaks stdev: \", np.mean(wudc2016_esl['speaker_closed_stdev']))"
   ]
  },
  {
   "cell_type": "markdown",
   "metadata": {},
   "source": [
    "ESL open round speaks had LOWER stdev than closed round speaks. But that might be because there are more open rounds. \n",
    "\n",
    "But EPL open round speaks had higher stdev than closed round speaks. \n",
    "\n",
    "(Not tested for statistical significant differences)"
   ]
  },
  {
   "cell_type": "markdown",
   "metadata": {},
   "source": [
    "## Rough notes"
   ]
  },
  {
   "cell_type": "code",
   "execution_count": 115,
   "metadata": {
    "collapsed": false
   },
   "outputs": [
    {
     "ename": "SyntaxError",
     "evalue": "'break' outside loop (<ipython-input-115-1fed353044d7>, line 15)",
     "output_type": "error",
     "traceback": [
      "\u001b[0;36m  File \u001b[0;32m\"<ipython-input-115-1fed353044d7>\"\u001b[0;36m, line \u001b[0;32m15\u001b[0m\n\u001b[0;31m    break\u001b[0m\n\u001b[0m    ^\u001b[0m\n\u001b[0;31mSyntaxError\u001b[0m\u001b[0;31m:\u001b[0m 'break' outside loop\n"
     ]
    }
   ],
   "source": [
    "def print_speaks_statistics(tournament_df, wudc=False):\n",
    "    print(\"Summary statistics for speaks\\n\")\n",
    "    print(\"Std of average speaks across all speakers: \", np.std(tournament_df['AVG']))\n",
    "    if wudc == True:        \n",
    "        tournament_esl = tournament_df[tournament_df['is_esl_or_efl'] == 1]\n",
    "        tournament_epl = tournament_df[tournament_df['is_esl_or_efl'] == 0]\n",
    "    else:\n",
    "        tournament_esl = tournament_df[tournament_df['is_esl'] == 1]\n",
    "        tournament_epl = tournament_df[tournament_df['is_esl'] == 0]\n",
    "    if len(tournament_esl) == 0 and len(tournament_epl) == 0:\n",
    "        tournament_esl = tournament_df[tournament_df['is_esl'] == '1']\n",
    "        tournament_epl = tournament_df[tournament_df['is_esl'] == '0']\n",
    "    if len(tournament_esl) == 0 and len(tournament_epl) == 0:\n",
    "        print('Error identifying speaker statuses.')\n",
    "        \n",
    "    print(\"Mean speaks stdev: \", np.mean(tournament_df['speaker_stdev']))\n",
    "    \n",
    "    print(\"\\nMean EPL speaks stdev: \", np.mean(tournament_epl['speaker_stdev']))\n",
    "    print(\"Mean ESL speaks stdev: \", np.mean(tournament_esl['speaker_stdev']))\n",
    "    \n",
    "    print(\"\\nMean EPL open round speaks stdev: \", np.mean(tournament_epl['speaker_open_stdev']))\n",
    "    print(\"Mean ESL open round speaks stdev: \", np.mean(tournament_esl['speaker_open_stdev']))\n",
    "    \n",
    "    print(\"\\nMean EPL closed round speaks stdev: \", np.mean(tournament_epl['speaker_closed_stdev']))\n",
    "    print(\"Mean ESL closed round speaks stdev: \", np.mean(tournament_esl['speaker_closed_stdev']))"
   ]
  },
  {
   "cell_type": "code",
   "execution_count": 79,
   "metadata": {
    "collapsed": false
   },
   "outputs": [
    {
     "name": "stdout",
     "output_type": "stream",
     "text": [
      "Summary statistics for speaks\n",
      "\n",
      "Std of average speaks across all speakers:  3.1350169216988193\n",
      "Mean speaks stdev:  2.5222258248678173\n",
      "\n",
      "Mean EPL speaks stdev:  2.4849912932265057\n",
      "Mean ESL speaks stdev:  2.568078438016618\n",
      "\n",
      "Mean EPL open round speaks stdev:  2.353397361929397\n",
      "Mean ESL open round speaks stdev:  2.4112681453896125\n",
      "\n",
      "Mean EPL closed round speaks stdev:  2.3310593377826554\n",
      "Mean ESL closed round speaks stdev:  2.524056124328786\n"
     ]
    }
   ],
   "source": [
    "print_speaks_statistics(wudc2016, wudc=True)"
   ]
  },
  {
   "cell_type": "code",
   "execution_count": 82,
   "metadata": {
    "collapsed": false
   },
   "outputs": [
    {
     "name": "stdout",
     "output_type": "stream",
     "text": [
      "Summary statistics for speaks\n",
      "\n",
      "Std of average speaks across all speakers:  2.9290723600183237\n",
      "Mean speaks stdev:  2.49758326649657\n",
      "\n",
      "Mean EPL speaks stdev:  2.414387202272997\n",
      "Mean ESL speaks stdev:  2.6216674988027298\n",
      "\n",
      "Mean EPL open round speaks stdev:  2.274729295986496\n",
      "Mean ESL open round speaks stdev:  2.390230261995903\n",
      "\n",
      "Mean EPL closed round speaks stdev:  2.3171372349514923\n",
      "Mean ESL closed round speaks stdev:  2.557567083681913\n"
     ]
    }
   ],
   "source": [
    "print_speaks_statistics(wudc2017, wudc=True)"
   ]
  },
  {
   "cell_type": "code",
   "execution_count": 83,
   "metadata": {
    "collapsed": false
   },
   "outputs": [
    {
     "name": "stdout",
     "output_type": "stream",
     "text": [
      "Summary statistics for speaks\n",
      "\n",
      "Std of average speaks across all speakers:  2.9405014030035552\n",
      "Mean speaks stdev:  2.430589220333978\n",
      "\n",
      "Mean EPL speaks stdev:  2.3961619780680636\n",
      "Mean ESL speaks stdev:  2.527289268463235\n",
      "\n",
      "Mean EPL open round speaks stdev:  2.1799457429780102\n",
      "Mean ESL open round speaks stdev:  2.4767809086999995\n",
      "\n",
      "Mean EPL closed round speaks stdev:  2.2410592851706825\n",
      "Mean ESL closed round speaks stdev:  1.8186610982676468\n"
     ]
    }
   ],
   "source": [
    "print_speaks_statistics(oxiv2016)"
   ]
  },
  {
   "cell_type": "code",
   "execution_count": 84,
   "metadata": {
    "collapsed": false
   },
   "outputs": [
    {
     "name": "stdout",
     "output_type": "stream",
     "text": [
      "Summary statistics for speaks\n",
      "\n",
      "Std of average speaks across all speakers:  3.6621749916035773\n",
      "Mean speaks stdev:  2.4802874031076216\n",
      "\n",
      "Mean EPL speaks stdev:  2.346991157296295\n",
      "Mean ESL speaks stdev:  2.834287269032787\n",
      "\n",
      "Mean EPL open round speaks stdev:  2.0347391903049363\n",
      "Mean ESL open round speaks stdev:  2.3885986622590156\n",
      "\n",
      "Mean EPL closed round speaks stdev:  1.9249017932617278\n",
      "Mean ESL closed round speaks stdev:  2.1213203436065564\n"
     ]
    }
   ],
   "source": [
    "print_speaks_statistics(camiv2016)"
   ]
  },
  {
   "cell_type": "code",
   "execution_count": 86,
   "metadata": {
    "collapsed": false
   },
   "outputs": [
    {
     "name": "stdout",
     "output_type": "stream",
     "text": [
      "Summary statistics for speaks\n",
      "\n",
      "Std of average speaks across all speakers:  3.3017845487748656\n",
      "Mean speaks stdev:  3.063766725589616\n",
      "\n",
      "Mean EPL speaks stdev:  2.7690432014843736\n",
      "Mean ESL speaks stdev:  3.2892126085705184\n",
      "\n",
      "Mean EPL open round speaks stdev:  2.595647728361978\n",
      "Mean ESL open round speaks stdev:  3.2558374443486047\n",
      "\n",
      "Mean EPL closed round speaks stdev:  2.7543147995656234\n",
      "Mean ESL closed round speaks stdev:  2.989478439433468\n"
     ]
    }
   ],
   "source": [
    "print_speaks_statistics(eudc2016)"
   ]
  },
  {
   "cell_type": "code",
   "execution_count": 116,
   "metadata": {
    "collapsed": false
   },
   "outputs": [
    {
     "name": "stdout",
     "output_type": "stream",
     "text": [
      "Summary statistics for speaks\n",
      "\n",
      "Std of average speaks across all speakers:  3.4328195271011075\n",
      "Mean speaks stdev:  2.8243361953518074\n",
      "\n",
      "Mean EPL speaks stdev:  2.618622561794737\n",
      "Mean ESL speaks stdev:  2.998719790544643\n",
      "\n",
      "Mean EPL open round speaks stdev:  2.5265240142436833\n",
      "Mean ESL open round speaks stdev:  2.8528236992151776\n",
      "\n",
      "Mean EPL closed round speaks stdev:  2.2327602006799987\n",
      "Mean ESL closed round speaks stdev:  2.8209215169848214\n"
     ]
    }
   ],
   "source": [
    "print_speaks_statistics(eudc2015)"
   ]
  },
  {
   "cell_type": "raw",
   "metadata": {},
   "source": [
    "def add_is_esl(tourney_df):\n",
    "#     tourney_df = tourney_df.assign(is_esl=0)\n",
    "    for row_index in range(len(tourney_df)):\n",
    "        row = tourney_df.loc[row_index]\n",
    "        if not np.isnan(row['ESL']):\n",
    "            row['is_esl'] = 1    "
   ]
  },
  {
   "cell_type": "raw",
   "metadata": {},
   "source": [
    "wudc2016[['#1', '#2', '#3', '#4', '#5', '#6', '#7', '#8', '#9']]"
   ]
  },
  {
   "cell_type": "code",
   "execution_count": 29,
   "metadata": {
    "collapsed": false
   },
   "outputs": [
    {
     "data": {
      "text/plain": [
       "#1    85\n",
       "#2    83\n",
       "Name: 0, dtype: object"
      ]
     },
     "execution_count": 29,
     "metadata": {},
     "output_type": "execute_result"
    }
   ],
   "source": [
    "wudc2016.loc[0][['#1','#2' ]]"
   ]
  },
  {
   "cell_type": "raw",
   "metadata": {},
   "source": [
    "for row_index in range(len(wudc2016)):\n",
    "    speaker_stdev = np.std(wudc2016.loc[row_index][['#1', '#2', '#3', '#4', '#5', '#6', '#7', '#8', '#9']])\n",
    "    print(speaker_stdev)\n",
    "    # wudc2016.loc[row_index]['speaks_stdev'] = np.std(wudc2016.loc[row_index][['#1', '#2', '#3', '#4', '#5', '#6', '#7', '#8', '#9']])"
   ]
  }
 ],
 "metadata": {
  "kernelspec": {
   "display_name": "Python 3",
   "language": "python",
   "name": "python3"
  },
  "language_info": {
   "codemirror_mode": {
    "name": "ipython",
    "version": 3
   },
   "file_extension": ".py",
   "mimetype": "text/x-python",
   "name": "python",
   "nbconvert_exporter": "python",
   "pygments_lexer": "ipython3",
   "version": "3.5.1"
  }
 },
 "nbformat": 4,
 "nbformat_minor": 0
}
