{
 "cells": [
  {
   "cell_type": "markdown",
   "metadata": {},
   "source": [
    "# WUDC Outround Opponent Finder\n",
    "\n",
    "Function of interest is `outround_opponents_full(team_break_position)`.\n",
    "\n",
    "Sample data is from WUDC 2017."
   ]
  },
  {
   "cell_type": "code",
   "execution_count": 10,
   "metadata": {
    "collapsed": true
   },
   "outputs": [],
   "source": [
    "import pandas as pd"
   ]
  },
  {
   "cell_type": "code",
   "execution_count": 2,
   "metadata": {
    "collapsed": false
   },
   "outputs": [],
   "source": [
    "# Read in list of breaking teams (in order of breaking)\n",
    "\n",
    "name = 'T'\n",
    "breaking_teams = pd.read_csv(\"wudc-2017-open-break.csv\", names=name)\n",
    "breaking_teams_list = [\n",
    "    breaking_teams.loc[i][name]\n",
    "    for i in range(len(breaking_teams))\n",
    "]"
   ]
  },
  {
   "cell_type": "code",
   "execution_count": 3,
   "metadata": {
    "collapsed": true
   },
   "outputs": [],
   "source": [
    "# Parameters\n",
    "\n",
    "total_teams = 48"
   ]
  },
  {
   "cell_type": "code",
   "execution_count": 4,
   "metadata": {
    "collapsed": true
   },
   "outputs": [],
   "source": [
    "def calculate_outround_mods(team_break_position):\n",
    "    \"\"\"Calculate mods of teams a given team could face per outround\n",
    "    given said team's breaking position. See 'Reasoning' in the Appendix.\n",
    "    \"\"\"\n",
    "    break_position_mod_16 = team_break_position % 16\n",
    "    pdo_mods = sorted([break_position_mod_16, (break_position_mod_16 * -1 + 1) % 16])\n",
    "    quarter_mods = sorted([pdo_mods[0] % 8, pdo_mods[1] % 8])\n",
    "    semi_mods = sorted([pdo_mods[0] % 4, pdo_mods[1] % 4])\n",
    "    return pdo_mods, quarter_mods, semi_mods"
   ]
  },
  {
   "cell_type": "code",
   "execution_count": 5,
   "metadata": {
    "collapsed": true
   },
   "outputs": [],
   "source": [
    "def outround_team_indices(round_mod_list, mod):\n",
    "    \"\"\"Return opponents' zero-indexed break positions given a round\n",
    "    mod list and a round mod.\n",
    "    \"\"\"\n",
    "    return sorted([\n",
    "        round_mod_list[j] + mod * i\n",
    "        for i in range(total_teams // mod)\n",
    "        for j in range(2)\n",
    "    ])\n",
    "\n",
    "def octo_team_indices(octo_mod_list):\n",
    "    \"\"\"Return octofinal opponents' zero-indexed break positions.\"\"\"\n",
    "    return outround_team_indices(octo_mod_list, 16)\n",
    "\n",
    "def quarter_team_indices(quarter_mod_list):\n",
    "    \"\"\"Return quarterfinal opponents' zero-indexed break positions.\"\"\"\n",
    "    return outround_team_indices(quarter_mod_list, 8)\n",
    "\n",
    "def semi_team_indices(semi_mod_list):\n",
    "    \"\"\"Return semifinal opponents' zero-indexed break positions.\"\"\"\n",
    "    return outround_team_indices(semi_mod_list, 4)"
   ]
  },
  {
   "cell_type": "code",
   "execution_count": 6,
   "metadata": {
    "collapsed": true
   },
   "outputs": [],
   "source": [
    "def pdo_from_octo(octo_indices):\n",
    "    \"\"\"Return PDO opponents' zero-indexed break positions from octo\n",
    "    opponents' zero-indexed break positions.\"\"\"\n",
    "    if octo_indices[0] == 0:\n",
    "        return octo_indices[0] + octo_indices[3:]\n",
    "    else:\n",
    "        return octo_indices[2:]"
   ]
  },
  {
   "cell_type": "code",
   "execution_count": 7,
   "metadata": {
    "collapsed": true
   },
   "outputs": [],
   "source": [
    "def lookup_team_names(team_indices):\n",
    "    \"\"\"Return team names given their zero-indexed break positions.\"\"\"\n",
    "    return [\n",
    "        breaking_teams_list[i-1]\n",
    "        for i in team_indices\n",
    "    ]"
   ]
  },
  {
   "cell_type": "code",
   "execution_count": 8,
   "metadata": {
    "collapsed": false
   },
   "outputs": [],
   "source": [
    "def outround_opponents_full(team_break_position):\n",
    "    \"\"\"Print opponents team could face in all outrounds.\"\"\"\n",
    "    print(\"Team: \", breaking_teams_list[team_break_position-1])\n",
    "    print(\"Break position: \", team_break_position)\n",
    "    octo_mods, quarter_mods, semi_mods = calculate_outround_mods(team_break_position)\n",
    "    octo_indices = octo_team_indices(octo_mods)\n",
    "    if team_break_position > 16:\n",
    "        print(\"\\nPDO opponents: \", lookup_team_names(pdo_from_octo(octo_indices)))\n",
    "    print(\"\\nOcto opponents: \", lookup_team_names(octo_indices))\n",
    "    print(\"\\nQuarter opponents: \", lookup_team_names(quarter_team_indices(quarter_mods)))\n",
    "    print(\"\\nSemi opponents: \", lookup_team_names(semi_team_indices(semi_mods)))\n",
    "    print(\"\\nFinal teams: \", breaking_teams_list)"
   ]
  },
  {
   "cell_type": "code",
   "execution_count": 9,
   "metadata": {
    "collapsed": false
   },
   "outputs": [
    {
     "name": "stdout",
     "output_type": "stream",
     "text": [
      "Team:  Oxford B\n",
      "Break position:  1\n",
      "\n",
      "Octo opponents:  ['ANU A', 'Oxford B', 'Harvard C', 'USU A', 'Yale B', 'LSE B']\n",
      "\n",
      "Quarter opponents:  ['ANU A', 'Oxford B', 'Hart House A', 'Durham A', 'Harvard C', 'USU A', 'UDC LAW A', 'Duke A', 'Yale B', 'LSE B', 'QUTDS A', 'Princeton C']\n",
      "\n",
      "Semi opponents:  ['ANU A', 'Oxford B', 'Oxford A', 'Oxford C', 'Hart House A', 'Durham A', 'GUU A', 'Cambridge B', 'Harvard C', 'USU A', 'UWADU A', 'IIUM B', 'UDC LAW A', 'Duke A', 'USU D', 'UQDS B', 'Yale B', 'LSE B', 'Stanford A', 'Penn A', 'QUTDS A', 'Princeton C', 'YUU A', 'NLSIU B']\n",
      "\n",
      "Final teams:  ['Oxford B', 'UT MARA A', 'AKL A', 'Oxford A', 'Oxford C', 'Harvard A', 'Cambridge A', 'Hart House A', 'Durham A', 'Yale A', 'USU B', 'GUU A', 'Cambridge B', 'Melbourne A', 'Tel Aviv A', 'Harvard C', 'USU A', 'IIUM A', 'Bates A', 'UWADU A', 'IIUM B', 'USU C', 'UQDS C', 'UDC LAW A', 'Duke A', 'Cambridge D', 'USU E', 'USU D', 'UQDS B', 'MAD A', 'USU F', 'Yale B', 'LSE B', 'Ateneo A', 'Brown A', 'Stanford A', 'Penn A', 'QDU A', 'Brandeis A', 'QUTDS A', 'Princeton C', 'IITB A', 'LEIDEN A', 'YUU A', 'NLSIU B', 'Stanford B', 'LSE A', 'ANU A']\n"
     ]
    }
   ],
   "source": [
    "# Function to return opponents per round\n",
    "\n",
    "outround_opponents_full(1)"
   ]
  },
  {
   "cell_type": "markdown",
   "metadata": {},
   "source": [
    "## Appendix\n",
    "\n",
    "**Reasoning**:\n",
    "\n",
    "Octos: \n",
    "* 1, 0 mod 16 \n",
    "* (or 2, -1; 3, -2;...;8, -7)\n",
    "\n",
    "Quarters: \n",
    "* 1, 0 mod 8 (8, -7)\n",
    "* 2, -1 mod 8 (7, -6)\n",
    "...\n",
    "\n",
    "Semis:\n",
    "* 1, 0 mod 4\n",
    "* 2, 3 mod 4"
   ]
  },
  {
   "cell_type": "raw",
   "metadata": {},
   "source": [
    "# Consider using this for showing only opponents not seen in past rounds \n",
    "\n",
    "complementary_quarter_pdo_mods = [(el + 8) % 16 for el in quarter_mods]\n",
    "complementary_quarter_team_indexes = complementary_quarter_pdo_mods + pdo_team_indices(complementary_quarter_pdo_mods)"
   ]
  }
 ],
 "metadata": {
  "kernelspec": {
   "display_name": "Python 3",
   "language": "python",
   "name": "python3"
  },
  "language_info": {
   "codemirror_mode": {
    "name": "ipython",
    "version": 3
   },
   "file_extension": ".py",
   "mimetype": "text/x-python",
   "name": "python",
   "nbconvert_exporter": "python",
   "pygments_lexer": "ipython3",
   "version": "3.5.1"
  }
 },
 "nbformat": 4,
 "nbformat_minor": 0
}
