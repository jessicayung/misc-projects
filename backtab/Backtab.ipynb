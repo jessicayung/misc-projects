{
 "cells": [
  {
   "cell_type": "markdown",
   "metadata": {},
   "source": [
    "# Backtab script"
   ]
  },
  {
   "cell_type": "code",
   "execution_count": 1,
   "metadata": {
    "collapsed": true
   },
   "outputs": [],
   "source": [
    "import pandas as pd\n",
    "import numpy as np"
   ]
  },
  {
   "cell_type": "code",
   "execution_count": 89,
   "metadata": {
    "collapsed": false
   },
   "outputs": [
    {
     "name": "stdout",
     "output_type": "stream",
     "text": [
      "       Venue     OG Team     OO Team      CG Team       CO Team\n",
      "Index                                                          \n",
      "0      OV210    Zagreb A     Brown B     IBA DU A      Malaya A\n",
      "1      OV216       LSE A      UQDS C        NEU A       DC Ms A\n",
      "2      OV231      Bard A    LEIDEN C  Indonesia A  St Andrews C\n",
      "3      OV243  UChicago B      USDV B        WDU A         UBC B\n",
      "4      OV244  Stanford F  Stanford C        IDC A       ASAFA B\n",
      "       Venue       OG Team     OO Team       CG Team       CO Team\n",
      "Index                                                             \n",
      "0      OV210     EDS UGM B       SMU B       BINUS A  DCBayreuth A\n",
      "1      OV216         FDS B      KHDS A    UChicago C     Tilbury B\n",
      "2      OV231         LSE B       USU B  St Andrews C       Brown A\n",
      "3      OV243        UNSW A  TCD Hist B     Cornell D    UChicago B\n",
      "4      OV244  Middlebury B   UT MARA B         IUT A      Berlin C\n",
      "       Venue       OG Team OO Team      CG Team    CO Team\n",
      "Index                                                     \n",
      "0      OV231  UCD LawSoc B   UFS A  SolBridge A    ASAFA B\n",
      "1      OV243        SUFE B  UNSW A        SIM A   NYU LY A\n",
      "2      OV244       Tokyo B   ECP A    UCD LnH A    SdDUP A\n",
      "3      OV277        Yale D   USU A      UWODS A  UT MARA A\n",
      "4      OV279    TCD Phil A   IUT A        GUU B   LEIDEN C\n",
      "       Venue       OG Team     OO Team  CG Team       CO Team\n",
      "Index                                                        \n",
      "0      OV210  St Andrews C       BBU A   UQDS B        UNSW B\n",
      "1      OV216       BINUS A       USU F  Bates B    TCD Phil B\n",
      "2      OV231      SWORDS A  Stanford A  UWADU B  St Andrews A\n",
      "3      OV243        RRIS A    DKWien C   AUDS A      BIPEDS A\n",
      "4      OV244      NYU LY A       SKT A   UQDS A       Tokyo A\n",
      "       Venue       OG Team      OO Team     CG Team       CO Team\n",
      "Index                                                            \n",
      "0      OV210        DCGA A  SolBridge A     E.D.S B        PUCP A\n",
      "1      OV231      Durham C    Vermont C       BBU A         TDS A\n",
      "2      OV243         HKU A        HSE A  Aberdeen A        AUDS A\n",
      "3      OV244       Inner A      UWADU B    NYU LY A  UCD LawSoc B\n",
      "4      OV277  Swarthmore A     McGill B  Stanford A        HUJI B\n"
     ]
    },
    {
     "name": "stderr",
     "output_type": "stream",
     "text": [
      "/Users/jessica/anaconda/lib/python3.5/site-packages/pandas/core/indexing.py:288: SettingWithCopyWarning: \n",
      "A value is trying to be set on a copy of a slice from a DataFrame.\n",
      "Try using .loc[row_indexer,col_indexer] = value instead\n",
      "\n",
      "See the caveats in the documentation: http://pandas.pydata.org/pandas-docs/stable/indexing.html#indexing-view-versus-copy\n",
      "  self.obj[key] = _infer_fill_value(value)\n",
      "/Users/jessica/anaconda/lib/python3.5/site-packages/pandas/core/indexing.py:465: SettingWithCopyWarning: \n",
      "A value is trying to be set on a copy of a slice from a DataFrame.\n",
      "Try using .loc[row_indexer,col_indexer] = value instead\n",
      "\n",
      "See the caveats in the documentation: http://pandas.pydata.org/pandas-docs/stable/indexing.html#indexing-view-versus-copy\n",
      "  self.obj[item] = s\n"
     ]
    }
   ],
   "source": [
    "# Round draws\n",
    "\n",
    "# Function to take out rows with OG NaNs in round draws\n",
    "def drop_og_nans(round_draw):\n",
    "    round_draw = round_draw[pd.notnull(round_draw['OG Team'])]\n",
    "    new_index_name = 'Index'\n",
    "    round_draw.loc[:,new_index_name] = list(range(len(round_draw)))\n",
    "    round_draw = round_draw.set_index(new_index_name)\n",
    "    print(round_draw.head())\n",
    "    return round_draw\n",
    "\n",
    "# Import and format round draws\n",
    "r3_draw = pd.read_csv('r3_draw.csv')\n",
    "r3_draw = drop_og_nans(r3_draw)\n",
    "\n",
    "r4_draw = pd.read_csv('r4_draw.csv')\n",
    "r4_draw = drop_og_nans(r4_draw)\n",
    "\n",
    "r5_draw = pd.read_csv('r5_draw.csv')\n",
    "r5_draw = drop_og_nans(r5_draw)\n",
    "\n",
    "r6_draw = pd.read_csv('r6_draw.csv')\n",
    "r6_draw = drop_og_nans(r6_draw)\n",
    "\n",
    "r7_draw = pd.read_csv('r7_draw.csv')\n",
    "r7_draw = drop_og_nans(r7_draw)"
   ]
  },
  {
   "cell_type": "code",
   "execution_count": 131,
   "metadata": {
    "collapsed": true
   },
   "outputs": [],
   "source": [
    "# Import team points\n",
    "r6_team_points = pd.read_csv(\"r6_team_points.csv\")"
   ]
  },
  {
   "cell_type": "code",
   "execution_count": 132,
   "metadata": {
    "collapsed": false
   },
   "outputs": [],
   "source": [
    "# Initialise dict of teams with r6 points\n",
    "\n",
    "teams = {}\n",
    "\n",
    "for team_number in range(len(r6_team_points)):\n",
    "    team_row = r6_team_points.loc[team_number]\n",
    "    team_name = team_row['Team']\n",
    "    teams[team_name] = {}\n",
    "    teams[team_name]['r6_pts'] = team_row['Points']"
   ]
  },
  {
   "cell_type": "code",
   "execution_count": 133,
   "metadata": {
    "collapsed": false
   },
   "outputs": [
    {
     "name": "stdout",
     "output_type": "stream",
     "text": [
      "Number of teams in dict 370\n",
      "Number of teams in r6_team_points 370\n",
      "Cambridge C {'r6_pts': 11}\n"
     ]
    }
   ],
   "source": [
    "# Test that dict works\n",
    "\n",
    "print(\"Number of teams in dict\", len(teams))\n",
    "print(\"Number of teams in r6_team_points\", len(r6_team_points))\n",
    "print('Cambridge C', teams['Cambridge C'])"
   ]
  },
  {
   "cell_type": "code",
   "execution_count": 137,
   "metadata": {
    "collapsed": true
   },
   "outputs": [],
   "source": [
    "# Add swing teams\n",
    "teams['Team 399'] = {}\n",
    "teams['Swing A'] = {}\n",
    "teams['Team 400'] = {}"
   ]
  },
  {
   "cell_type": "code",
   "execution_count": 140,
   "metadata": {
    "collapsed": false
   },
   "outputs": [],
   "source": [
    "# Import round opponents and venues\n",
    "# This was useful for debugging.\n",
    "\n",
    "def import_round_opps_and_venues(round_draw, round_number):\n",
    "    round_opps_key = 'r' + str(round_number) + '_opps'\n",
    "    round_venue_key = 'r' + str(round_number) + '_room'\n",
    "    for room_index in range(len(round_draw)):\n",
    "        room_row = round_draw.loc[room_index]\n",
    "        room_name = room_row['Venue']\n",
    "        og = room_row['OG Team']\n",
    "        oo = room_row['OO Team']\n",
    "        cg = room_row['CG Team']\n",
    "        co = room_row['CO Team']\n",
    "        teams[og][round_opps_key] = [oo, cg, co]\n",
    "        teams[oo][round_opps_key] = [og, cg, co]\n",
    "        teams[cg][round_opps_key] = [og, oo, co]\n",
    "        teams[co][round_opps_key] = [og, oo, cg]\n",
    "        for team in [og, oo, cg, co]:\n",
    "            teams[team][round_venue_key] = room_name"
   ]
  },
  {
   "cell_type": "code",
   "execution_count": 141,
   "metadata": {
    "collapsed": true
   },
   "outputs": [],
   "source": [
    "import_round_opps_and_venues(r7_draw, 7)"
   ]
  }
 ],
 "metadata": {
  "kernelspec": {
   "display_name": "Python 3",
   "language": "python",
   "name": "python3"
  },
  "language_info": {
   "codemirror_mode": {
    "name": "ipython",
    "version": 3
   },
   "file_extension": ".py",
   "mimetype": "text/x-python",
   "name": "python",
   "nbconvert_exporter": "python",
   "pygments_lexer": "ipython3",
   "version": "3.5.1"
  }
 },
 "nbformat": 4,
 "nbformat_minor": 0
}
